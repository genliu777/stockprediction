{
 "cells": [
  {
   "cell_type": "markdown",
   "metadata": {
    "collapsed": true
   },
   "source": [
    "## Hidden Markov Models for Stock Prediction\n",
    "\n",
    "*Some changes over the hmmlearn example.*"
   ]
  },
  {
   "cell_type": "markdown",
   "metadata": {},
   "source": [
    "### Get Quotes and Plot"
   ]
  },
  {
   "cell_type": "code",
   "execution_count": 1,
   "metadata": {
    "collapsed": false
   },
   "outputs": [
    {
     "ename": "NameError",
     "evalue": "name 'quotes_historical_yahoo_ochl' is not defined",
     "output_type": "error",
     "traceback": [
      "\u001b[1;31m---------------------------------------------------------------------------\u001b[0m",
      "\u001b[1;31mNameError\u001b[0m                                 Traceback (most recent call last)",
      "\u001b[1;32m<ipython-input-1-d17a09fb4a4e>\u001b[0m in \u001b[0;36m<module>\u001b[1;34m()\u001b[0m\n\u001b[0;32m     19\u001b[0m \u001b[0mstart_date\u001b[0m \u001b[1;33m=\u001b[0m \u001b[0mdatetime\u001b[0m\u001b[1;33m.\u001b[0m\u001b[0mdate\u001b[0m\u001b[1;33m(\u001b[0m\u001b[1;36m1995\u001b[0m\u001b[1;33m,\u001b[0m \u001b[1;36m1\u001b[0m\u001b[1;33m,\u001b[0m \u001b[1;36m1\u001b[0m\u001b[1;33m)\u001b[0m\u001b[1;33m\u001b[0m\u001b[0m\n\u001b[0;32m     20\u001b[0m \u001b[0mend_date\u001b[0m \u001b[1;33m=\u001b[0m \u001b[0mdatetime\u001b[0m\u001b[1;33m.\u001b[0m\u001b[0mdate\u001b[0m\u001b[1;33m.\u001b[0m\u001b[0mtoday\u001b[0m\u001b[1;33m(\u001b[0m\u001b[1;33m)\u001b[0m \u001b[1;33m-\u001b[0m \u001b[0mdatetime\u001b[0m\u001b[1;33m.\u001b[0m\u001b[0mtimedelta\u001b[0m\u001b[1;33m(\u001b[0m\u001b[0mdays\u001b[0m\u001b[1;33m=\u001b[0m\u001b[1;36m15\u001b[0m\u001b[1;33m)\u001b[0m\u001b[1;33m\u001b[0m\u001b[0m\n\u001b[1;32m---> 21\u001b[1;33m \u001b[0mquotes\u001b[0m \u001b[1;33m=\u001b[0m \u001b[0mquotes_historical_yahoo_ochl\u001b[0m\u001b[1;33m(\u001b[0m\u001b[0mticker\u001b[0m\u001b[1;33m,\u001b[0m \u001b[0mstart_date\u001b[0m\u001b[1;33m,\u001b[0m \u001b[0mend_date\u001b[0m\u001b[1;33m)\u001b[0m\u001b[1;33m\u001b[0m\u001b[0m\n\u001b[0m\u001b[0;32m     22\u001b[0m \u001b[1;33m\u001b[0m\u001b[0m\n\u001b[0;32m     23\u001b[0m \u001b[1;31m# Unpack quotes\u001b[0m\u001b[1;33m\u001b[0m\u001b[1;33m\u001b[0m\u001b[0m\n",
      "\u001b[1;31mNameError\u001b[0m: name 'quotes_historical_yahoo_ochl' is not defined"
     ]
    }
   ],
   "source": [
    "\"\"\"\n",
    "Gaussian HMM of stock data\n",
    "--------------------------\n",
    "This script shows how to use Gaussian HMM on stock price data from Yahoo! finance.\n",
    "\"\"\"\n",
    "%matplotlib inline\n",
    "\n",
    "from __future__ import print_function\n",
    "import datetime\n",
    "import numpy as np\n",
    "from matplotlib import cm, pyplot as plt\n",
    "from matplotlib.dates import YearLocator, MonthLocator\n",
    "from hmmlearn.hmm import GaussianHMM\n",
    "\n",
    "###############################################################################\n",
    "# Get quotes from Yahoo! finance\n",
    "###############################################################################\n",
    "ticker = \"IBM\"\n",
    "start_date = datetime.date(1995, 1, 1)\n",
    "end_date = datetime.date.today() - datetime.timedelta(days=15)\n",
    "quotes = quotes_historical_yahoo_ochl(ticker, start_date, end_date)\n",
    "\n",
    "# Unpack quotes\n",
    "dates = np.array([q[0] for q in quotes], dtype=int)\n",
    "close_v = np.array([q[2] for q in quotes])\n",
    "volume = np.array([q[5] for q in quotes])[1:]\n",
    "\n",
    "# Take diff of close value. Note that this makes\n",
    "# ``len(diff) = len(close_t) - 1``, therefore, other quantities also\n",
    "# need to be shifted by 1.\n",
    "diff = np.diff(close_v)\n",
    "dates = dates[1:]\n",
    "close_v = close_v[1:]\n",
    "\n",
    "# Pack diff and volume for training.\n",
    "X = np.column_stack([diff, volume])\n",
    "plt.figure(figsize=(15, 5), dpi=100) \n",
    "plt.title(ticker + \" - \" + end_date.strftime(\"%m/%d/%Y\"), fontsize = 14)\n",
    "plt.gca().xaxis.set_major_locator(YearLocator())\n",
    "plt.plot_date(dates,close_v,\"-\")\n",
    "plt.show()"
   ]
  },
  {
   "cell_type": "markdown",
   "metadata": {},
   "source": [
    "### Fit HMM and calculate State Transition Matrix"
   ]
  },
  {
   "cell_type": "code",
   "execution_count": null,
   "metadata": {
    "collapsed": false
   },
   "outputs": [],
   "source": [
    "###############################################################################\n",
    "# Run Gaussian HMM\n",
    "###############################################################################\n",
    "print(\"fitting to HMM and decoding ...\", end=\"\")\n",
    "# Make an HMM instance and execute fit\n",
    "model = GaussianHMM(n_components=4, covariance_type=\"diag\", n_iter=1000).fit(X)\n",
    "# Predict the optimal sequence of internal hidden state\n",
    "hidden_states = model.predict(X)\n",
    "print(\"done\")\n",
    "\n",
    "###############################################################################\n",
    "# Print trained parameters and plot\n",
    "###############################################################################\n",
    "print(\"Transition matrix\")\n",
    "print(model.transmat_)\n",
    "print()\n",
    "\n",
    "print(\"Means and vars of each hidden state\")\n",
    "for i in range(model.n_components):\n",
    "    print(\"{0}th hidden state\".format(i))\n",
    "    print(\"mean = \", model.means_[i])\n",
    "    print(\"var = \", np.diag(model.covars_[i]))\n",
    "    print()"
   ]
  },
  {
   "cell_type": "markdown",
   "metadata": {},
   "source": [
    "### Plot states "
   ]
  },
  {
   "cell_type": "code",
   "execution_count": null,
   "metadata": {
    "collapsed": false
   },
   "outputs": [],
   "source": [
    "fig, axs = plt.subplots(model.n_components, sharex=True, sharey=True, figsize=(15,15))\n",
    "colours = cm.rainbow(np.linspace(0, 1, model.n_components))\n",
    "\n",
    "for i, (ax, colour) in enumerate(zip(axs, colours)):\n",
    "    # Use fancy indexing to plot data in each state.\n",
    "    mask = hidden_states == i\n",
    "    ax.plot_date(dates[mask], close_v[mask], \".\", c=colour)\n",
    "    ax.set_title(\"{0}th hidden state\".format(i))\n",
    "\n",
    "    # Format the ticks.\n",
    "    ax.xaxis.set_major_locator(YearLocator())\n",
    "    ax.xaxis.set_minor_locator(MonthLocator())\n",
    "\n",
    "    ax.grid(True)\n",
    "plt.show()"
   ]
  },
  {
   "cell_type": "markdown",
   "metadata": {},
   "source": [
    "### Predict Stock price for last N days"
   ]
  },
  {
   "cell_type": "code",
   "execution_count": null,
   "metadata": {
    "collapsed": false
   },
   "outputs": [],
   "source": [
    "#get quotes for last N days\n",
    "start_date = datetime.date.today() - datetime.timedelta(days=15)\n",
    "end_date = datetime.date.today() \n",
    "quotes = quotes_historical_yahoo_ochl(ticker,start_date,end_date)\n",
    "dates = np.array([q[0] for q in quotes], dtype=int)"
   ]
  },
  {
   "cell_type": "code",
   "execution_count": null,
   "metadata": {
    "collapsed": false
   },
   "outputs": [],
   "source": [
    "#predict returns for last N days\n",
    "expected_returns_and_volumes = np.dot(model.transmat_, model.means_)\n",
    "returns_and_volumes_columnwise = list(zip(*expected_returns_and_volumes))\n",
    "returns = returns_and_volumes_columnwise[0]"
   ]
  },
  {
   "cell_type": "code",
   "execution_count": null,
   "metadata": {
    "collapsed": false
   },
   "outputs": [],
   "source": [
    "predicted_prices = []\n",
    "predicted_dates = []\n",
    "\n",
    "lastN = 12\n",
    "for idx in range(lastN):\n",
    "    state = hidden_states[-lastN+idx]\n",
    "    current_price = quotes[-lastN+idx][2]\n",
    "    current_date = datetime.date.fromordinal(dates[-lastN+idx])\n",
    "    predicted_date = current_date + datetime.timedelta(days=1)\n",
    "    predicted_dates.append(predicted_date)\n",
    "    predicted_prices.append(current_price + returns[state])\n",
    "\n",
    "plt.figure(figsize=(15, 5), dpi=100) \n",
    "plt.title(ticker, fontsize = 14)\n",
    "plt.plot(predicted_dates,predicted_prices)\n",
    "plt.plot(predicted_dates,close_v[-lastN:])\n",
    "plt.legend(['Predicted','Actual'])\n",
    "plt.show()"
   ]
  }
 ],
 "metadata": {
  "kernelspec": {
   "display_name": "Python 3",
   "language": "python",
   "name": "python3"
  },
  "language_info": {
   "codemirror_mode": {
    "name": "ipython",
    "version": 3
   },
   "file_extension": ".py",
   "mimetype": "text/x-python",
   "name": "python",
   "nbconvert_exporter": "python",
   "pygments_lexer": "ipython3",
   "version": "3.5.1"
  }
 },
 "nbformat": 4,
 "nbformat_minor": 0
}
